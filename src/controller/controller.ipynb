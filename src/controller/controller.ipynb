{
 "cells": [
  {
   "cell_type": "markdown",
   "id": "64dc01c5",
   "metadata": {},
   "source": [
    "# High Performance Computing Filesystems Benchmarks"
   ]
  },
  {
   "cell_type": "markdown",
   "id": "cdd92718",
   "metadata": {},
   "source": [
    "## Setup"
   ]
  },
  {
   "cell_type": "markdown",
   "id": "6e0d2602",
   "metadata": {},
   "source": [
    "### System-wide Variables"
   ]
  },
  {
   "cell_type": "code",
   "execution_count": null,
   "id": "f6e74f50",
   "metadata": {
    "vscode": {
     "languageId": "plaintext"
    }
   },
   "outputs": [],
   "source": [
    "server_addr = ''\n",
    "server_port = 0"
   ]
  },
  {
   "cell_type": "code",
   "execution_count": null,
   "id": "1b65444b",
   "metadata": {
    "vscode": {
     "languageId": "plaintext"
    }
   },
   "outputs": [],
   "source": [
    "# track if alluxio. if so, call setup for master and worker nodes"
   ]
  },
  {
   "cell_type": "markdown",
   "id": "393b1e84",
   "metadata": {},
   "source": [
    "### Server Side Setup"
   ]
  },
  {
   "cell_type": "code",
   "execution_count": null,
   "id": "da7cafb0",
   "metadata": {
    "vscode": {
     "languageId": "plaintext"
    }
   },
   "outputs": [],
   "source": [
    "# ensure the data exists\n",
    "!../../data_plane_setup.sh\n",
    "\n",
    "# run the server"
   ]
  },
  {
   "cell_type": "markdown",
   "id": "0b63b183",
   "metadata": {},
   "source": [
    "### Client Side Setup"
   ]
  }
 ],
 "metadata": {
  "language_info": {
   "name": "python"
  }
 },
 "nbformat": 4,
 "nbformat_minor": 5
}
